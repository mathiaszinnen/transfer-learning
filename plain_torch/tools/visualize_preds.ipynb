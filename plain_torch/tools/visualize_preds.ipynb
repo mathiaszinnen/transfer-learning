{
 "cells": [
  {
   "cell_type": "code",
   "execution_count": 1,
   "id": "1c77a718-a905-442f-8646-8479423f60b8",
   "metadata": {},
   "outputs": [],
   "source": [
    "import fiftyone as fo"
   ]
  },
  {
   "cell_type": "code",
   "execution_count": null,
   "id": "0c29a955-c592-4981-b8c6-59dca0529436",
   "metadata": {},
   "outputs": [
    {
     "name": "stdout",
     "output_type": "stream",
     "text": []
    },
    {
     "name": "stdout",
     "output_type": "stream",
     "text": [
      "  12% |█|-------------|  442/3843 [7.5s elapsed, 57.5s remaining, 60.2 samples/s]   "
     ]
    }
   ],
   "source": [
    "data_path = '/hdd/datasets/annotations-nightly/imgs'\n",
    "labels_path = 'preds_30.json'\n",
    "name = 'transfer-learning-preds-test2'\n",
    "\n",
    "dataset_type = fo.types.COCODetectionDataset\n",
    "dataset = fo.Dataset.from_dir(\n",
    "    data_path = data_path,\n",
    "    labels_path = labels_path,\n",
    "    # dataset_dir=base_path,\n",
    "    dataset_type = dataset_type,\n",
    "    name=name )"
   ]
  }
 ],
 "metadata": {
  "kernelspec": {
   "display_name": "Python 3 (ipykernel)",
   "language": "python",
   "name": "python3"
  },
  "language_info": {
   "codemirror_mode": {
    "name": "ipython",
    "version": 3
   },
   "file_extension": ".py",
   "mimetype": "text/x-python",
   "name": "python",
   "nbconvert_exporter": "python",
   "pygments_lexer": "ipython3",
   "version": "3.8.13"
  }
 },
 "nbformat": 4,
 "nbformat_minor": 5
}
